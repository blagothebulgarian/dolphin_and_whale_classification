{
 "cells": [
  {
   "cell_type": "code",
   "execution_count": 1,
   "id": "93553169-86b0-498a-929a-4a42a73f49f8",
   "metadata": {},
   "outputs": [
    {
     "name": "stderr",
     "output_type": "stream",
     "text": [
      "2022-04-11 21:31:51.848 INFO    numexpr.utils: NumExpr defaulting to 8 threads.\n"
     ]
    }
   ],
   "source": [
    "from xml.sax import handler\n",
    "import streamlit as st\n",
    "import tensorflow as tf\n",
    "import numpy as np\n",
    "import json\n",
    "import pandas as pd\n",
    "from io import BytesIO\n",
    "from tensorflow.keras.models import load_model\n",
    "from tensorflow.keras.utils import CustomObjectScope\n",
    "from tensorflow.keras.initializers import glorot_uniform\n",
    "from tensorflow.keras.preprocessing import image\n",
    "from tensorflow.keras.preprocessing.image import ImageDataGenerator\n",
    "from tensorflow.keras.applications.resnet50 import ResNet50, preprocess_input"
   ]
  },
  {
   "cell_type": "code",
   "execution_count": 2,
   "id": "f620d532-99ce-4e5a-a059-e9df4f1c68dd",
   "metadata": {},
   "outputs": [],
   "source": [
    "with open(\"./prediction_dict.json\", \"r\") as file:\n",
    "    dictionary = json.load(file)"
   ]
  },
  {
   "cell_type": "code",
   "execution_count": 3,
   "id": "6396583d-0d59-4f75-a872-91922231d139",
   "metadata": {},
   "outputs": [
    {
     "name": "stdout",
     "output_type": "stream",
     "text": [
      "<class 'numpy.ndarray'>\n",
      "(224, 224, 3)\n",
      "(1, 224, 224, 3)\n"
     ]
    }
   ],
   "source": [
    "path = './images_by_class/validation/class_frasiers_dolphin/4d817d2f3e6298.jpg'\n",
    "image = np.array(tf.keras.utils.load_img(\n",
    "    path,\n",
    "    grayscale=False,\n",
    "    color_mode='rgb',\n",
    "    target_size=(224,224),\n",
    "    interpolation='bilinear'\n",
    "))\n",
    "#image = tf.io.decode_image(bytes_data, channels=3).numpy()\n",
    "#Now we have a numpy array to process\n",
    "\n",
    "#desired_input_shape = (224, 224)\n",
    "#image = tf.keras.preprocessing.image.smart_resize( image, desired_input_shape, interpolation='bilinear')\n",
    "print(type(image))\n",
    "print(image.shape)\n",
    "#expanded_img_array = np.expand_dims(img_array, axis=0)\n",
    "#preprocessed_img = preprocess_input(expanded_img_array)\n",
    "\n",
    "#print(image[0])\n",
    "image = image/255\n",
    "#print(image[0])\n",
    "image = np.expand_dims(image, axis=0)\n",
    "print(image.shape)"
   ]
  },
  {
   "cell_type": "code",
   "execution_count": 4,
   "id": "2ec5cc07-c57a-4f99-9978-0aa305ebe593",
   "metadata": {},
   "outputs": [
    {
     "name": "stderr",
     "output_type": "stream",
     "text": [
      "2022-04-11 21:31:57.070719: I tensorflow/core/platform/cpu_feature_guard.cc:151] This TensorFlow binary is optimized with oneAPI Deep Neural Network Library (oneDNN) to use the following CPU instructions in performance-critical operations:  AVX2 FMA\n",
      "To enable them in other operations, rebuild TensorFlow with the appropriate compiler flags.\n"
     ]
    },
    {
     "name": "stdout",
     "output_type": "stream",
     "text": [
      "This is a picture of a dusky dolphin!\n"
     ]
    }
   ],
   "source": [
    "with CustomObjectScope(\n",
    "    {'GlorotUniform': glorot_uniform()}):\n",
    "    model = load_model('./models/mobilenet_transfer_model.h5')\n",
    "\n",
    "\n",
    "preds = model.predict(image)\n",
    "pred = dictionary[str(np.argmax(preds))]\n",
    "pred = ' '.join(pred.split('_')[1:])\n",
    "print(f\"This is a picture of a {pred}!\")"
   ]
  },
  {
   "cell_type": "code",
   "execution_count": 5,
   "id": "893a544f-7658-4319-95d6-a747c2d40a4c",
   "metadata": {},
   "outputs": [
    {
     "data": {
      "text/plain": [
       "'class_dusky_dolphin'"
      ]
     },
     "execution_count": 5,
     "metadata": {},
     "output_type": "execute_result"
    }
   ],
   "source": [
    "dictionary['8']"
   ]
  },
  {
   "cell_type": "code",
   "execution_count": 16,
   "id": "ba919068-0dee-40e6-aaab-7878d91fab7a",
   "metadata": {},
   "outputs": [
    {
     "data": {
      "text/plain": [
       "[0.0003867156,\n",
       " 7.768215e-06,\n",
       " 0.011837087,\n",
       " 0.09882202,\n",
       " 4.4075186e-06,\n",
       " 0.00033812542,\n",
       " 0.02404251,\n",
       " 0.0003336545,\n",
       " 0.4138474,\n",
       " 0.016664138,\n",
       " 0.00011476831,\n",
       " 0.006878262,\n",
       " 0.0035026819,\n",
       " 5.8372185e-05,\n",
       " 0.0041753775,\n",
       " 0.00010678837,\n",
       " 0.00045687373,\n",
       " 0.00027642326,\n",
       " 0.14976625,\n",
       " 6.297103e-05,\n",
       " 0.007866501,\n",
       " 0.0013878342,\n",
       " 0.03758607,\n",
       " 0.03505474,\n",
       " 0.00033713417,\n",
       " 0.0010953698,\n",
       " 6.9397097e-06,\n",
       " 0.18305664,\n",
       " 0.0018866031,\n",
       " 3.9543855e-05]"
      ]
     },
     "execution_count": 16,
     "metadata": {},
     "output_type": "execute_result"
    }
   ],
   "source": [
    "preds = list(preds[0])\n",
    "preds"
   ]
  },
  {
   "cell_type": "code",
   "execution_count": 18,
   "id": "897491be-fe96-46ba-8c9b-c566bd855216",
   "metadata": {},
   "outputs": [
    {
     "data": {
      "text/plain": [
       "[['beluga', 0.0003867156],\n",
       " ['blue whale', 7.768215e-06],\n",
       " ['bottlenose dolphin', 0.011837087],\n",
       " ['bottlenose dolpin', 0.09882202],\n",
       " ['brydes whale', 4.4075186e-06],\n",
       " ['commersons dolphin', 0.00033812542],\n",
       " ['common dolphin', 0.02404251],\n",
       " ['cuviers beaked whale', 0.0003336545],\n",
       " ['dusky dolphin', 0.4138474],\n",
       " ['false killer whale', 0.016664138],\n",
       " ['fin whale', 0.00011476831],\n",
       " ['frasiers dolphin', 0.006878262],\n",
       " ['globis', 0.0035026819],\n",
       " ['gray whale', 5.8372185e-05],\n",
       " ['humpback whale', 0.0041753775],\n",
       " ['kiler whale', 0.00010678837],\n",
       " ['killer whale', 0.00045687373],\n",
       " ['long finned pilot whale', 0.00027642326],\n",
       " ['melon headed whale', 0.14976625],\n",
       " ['minke whale', 6.297103e-05],\n",
       " ['pantropic spotted dolphin', 0.007866501],\n",
       " ['pilot whale', 0.0013878342],\n",
       " ['pygmy killer whale', 0.03758607],\n",
       " ['rough toothed dolphin', 0.03505474],\n",
       " ['sei whale', 0.00033713417],\n",
       " ['short finned pilot whale', 0.0010953698],\n",
       " ['southern right whale', 6.9397097e-06],\n",
       " ['spinner dolphin', 0.18305664],\n",
       " ['spotted dolphin', 0.0018866031],\n",
       " ['white sided dolphin', 3.9543855e-05]]"
      ]
     },
     "execution_count": 18,
     "metadata": {},
     "output_type": "execute_result"
    }
   ],
   "source": [
    "data =[]\n",
    "for index, pred in enumerate(preds):\n",
    "    categ = dictionary[str(index)]\n",
    "    categ = ' '.join(categ.split('_')[1:])\n",
    "    data.append([categ,pred])\n",
    "data"
   ]
  },
  {
   "cell_type": "code",
   "execution_count": 91,
   "id": "f1e6f76e-1116-4727-8d59-2c41c82f6854",
   "metadata": {},
   "outputs": [],
   "source": [
    "df = pd.DataFrame(data).rename(columns={0: \"Species Class\", 1: \"Probability %\"})\n",
    "df = df.sort_values(by=['Probability %'], ascending = False).head(15)"
   ]
  },
  {
   "cell_type": "code",
   "execution_count": 90,
   "id": "9ea671ac-77a0-4f96-b180-67a645c0727f",
   "metadata": {},
   "outputs": [
    {
     "data": {
      "text/html": [
       "\n",
       "<div id=\"altair-viz-59b6a1bdc756421b8a8853f72c6a7a83\"></div>\n",
       "<script type=\"text/javascript\">\n",
       "  var VEGA_DEBUG = (typeof VEGA_DEBUG == \"undefined\") ? {} : VEGA_DEBUG;\n",
       "  (function(spec, embedOpt){\n",
       "    let outputDiv = document.currentScript.previousElementSibling;\n",
       "    if (outputDiv.id !== \"altair-viz-59b6a1bdc756421b8a8853f72c6a7a83\") {\n",
       "      outputDiv = document.getElementById(\"altair-viz-59b6a1bdc756421b8a8853f72c6a7a83\");\n",
       "    }\n",
       "    const paths = {\n",
       "      \"vega\": \"https://cdn.jsdelivr.net/npm//vega@5?noext\",\n",
       "      \"vega-lib\": \"https://cdn.jsdelivr.net/npm//vega-lib?noext\",\n",
       "      \"vega-lite\": \"https://cdn.jsdelivr.net/npm//vega-lite@4.17.0?noext\",\n",
       "      \"vega-embed\": \"https://cdn.jsdelivr.net/npm//vega-embed@6?noext\",\n",
       "    };\n",
       "\n",
       "    function maybeLoadScript(lib, version) {\n",
       "      var key = `${lib.replace(\"-\", \"\")}_version`;\n",
       "      return (VEGA_DEBUG[key] == version) ?\n",
       "        Promise.resolve(paths[lib]) :\n",
       "        new Promise(function(resolve, reject) {\n",
       "          var s = document.createElement('script');\n",
       "          document.getElementsByTagName(\"head\")[0].appendChild(s);\n",
       "          s.async = true;\n",
       "          s.onload = () => {\n",
       "            VEGA_DEBUG[key] = version;\n",
       "            return resolve(paths[lib]);\n",
       "          };\n",
       "          s.onerror = () => reject(`Error loading script: ${paths[lib]}`);\n",
       "          s.src = paths[lib];\n",
       "        });\n",
       "    }\n",
       "\n",
       "    function showError(err) {\n",
       "      outputDiv.innerHTML = `<div class=\"error\" style=\"color:red;\">${err}</div>`;\n",
       "      throw err;\n",
       "    }\n",
       "\n",
       "    function displayChart(vegaEmbed) {\n",
       "      vegaEmbed(outputDiv, spec, embedOpt)\n",
       "        .catch(err => showError(`Javascript Error: ${err.message}<br>This usually means there's a typo in your chart specification. See the javascript console for the full traceback.`));\n",
       "    }\n",
       "\n",
       "    if(typeof define === \"function\" && define.amd) {\n",
       "      requirejs.config({paths});\n",
       "      require([\"vega-embed\"], displayChart, err => showError(`Error loading script: ${err.message}`));\n",
       "    } else {\n",
       "      maybeLoadScript(\"vega\", \"5\")\n",
       "        .then(() => maybeLoadScript(\"vega-lite\", \"4.17.0\"))\n",
       "        .then(() => maybeLoadScript(\"vega-embed\", \"6\"))\n",
       "        .catch(showError)\n",
       "        .then(() => displayChart(vegaEmbed));\n",
       "    }\n",
       "  })({\"config\": {\"view\": {\"continuousWidth\": 400, \"continuousHeight\": 300}}, \"layer\": [{\"mark\": \"bar\", \"encoding\": {\"color\": {\"field\": \"Species Class\", \"legend\": null, \"scale\": {\"scheme\": \"blues\"}, \"type\": \"nominal\"}, \"x\": {\"field\": \"Probability %\", \"type\": \"quantitative\"}, \"y\": {\"field\": \"Species Class\", \"sort\": \"-x\", \"type\": \"nominal\"}}}, {\"mark\": {\"type\": \"text\", \"align\": \"left\", \"baseline\": \"middle\", \"dx\": 3}, \"encoding\": {\"color\": {\"field\": \"Species Class\", \"legend\": null, \"scale\": {\"scheme\": \"blues\"}, \"type\": \"nominal\"}, \"text\": {\"field\": \"Probability %\", \"type\": \"quantitative\"}, \"x\": {\"field\": \"Probability %\", \"type\": \"quantitative\"}, \"y\": {\"field\": \"Species Class\", \"sort\": \"-x\", \"type\": \"nominal\"}}}], \"data\": {\"name\": \"data-c761e27e736408df93c8b772068ee6d8\"}, \"height\": 900, \"title\": \"Class Probabilities by Percentage\", \"$schema\": \"https://vega.github.io/schema/vega-lite/v4.17.0.json\", \"datasets\": {\"data-c761e27e736408df93c8b772068ee6d8\": [{\"Species Class\": \"dusky dolphin\", \"Probability %\": 0.4138473868370056}, {\"Species Class\": \"spinner dolphin\", \"Probability %\": 0.18305663764476776}, {\"Species Class\": \"melon headed whale\", \"Probability %\": 0.1497662514448166}, {\"Species Class\": \"bottlenose dolpin\", \"Probability %\": 0.09882201999425888}, {\"Species Class\": \"pygmy killer whale\", \"Probability %\": 0.03758607059717178}, {\"Species Class\": \"rough toothed dolphin\", \"Probability %\": 0.03505473956465721}, {\"Species Class\": \"common dolphin\", \"Probability %\": 0.024042509496212006}, {\"Species Class\": \"false killer whale\", \"Probability %\": 0.016664138063788414}, {\"Species Class\": \"bottlenose dolphin\", \"Probability %\": 0.011837086640298367}, {\"Species Class\": \"pantropic spotted dolphin\", \"Probability %\": 0.00786650087684393}, {\"Species Class\": \"frasiers dolphin\", \"Probability %\": 0.006878261920064688}, {\"Species Class\": \"humpback whale\", \"Probability %\": 0.004175377544015646}, {\"Species Class\": \"globis\", \"Probability %\": 0.003502681851387024}, {\"Species Class\": \"spotted dolphin\", \"Probability %\": 0.0018866030732169747}, {\"Species Class\": \"pilot whale\", \"Probability %\": 0.0013878341997042298}]}}, {\"mode\": \"vega-lite\"});\n",
       "</script>"
      ],
      "text/plain": [
       "alt.LayerChart(...)"
      ]
     },
     "execution_count": 90,
     "metadata": {},
     "output_type": "execute_result"
    }
   ],
   "source": [
    "import altair as alt\n",
    "bars = alt.Chart(df).mark_bar().encode(\n",
    "    y=alt.Y('Species Class:N', sort='-x'),\n",
    "    x=\"Probability %:Q\",\n",
    "    color=alt.Color('Species Class', scale=alt.Scale(scheme='blues'), legend = None)\n",
    "    \n",
    ")\n",
    "\n",
    "text = bars.mark_text(\n",
    "    align='left',\n",
    "    baseline='middle',\n",
    "    dx=3  # Nudges text to right so it doesn't appear on top of the bar\n",
    ").encode(\n",
    "    text='Probability %:Q'\n",
    ")\n",
    "\n",
    "chart = (bars + text).properties(height=900, title = 'Class Probabilities by Percentage')\n",
    "chart"
   ]
  },
  {
   "cell_type": "code",
   "execution_count": null,
   "id": "ad94a4cb-c62e-436c-9aa2-bdf1c0a75858",
   "metadata": {},
   "outputs": [],
   "source": []
  }
 ],
 "metadata": {
  "kernelspec": {
   "display_name": "Python 3 (ipykernel)",
   "language": "python",
   "name": "python3"
  },
  "language_info": {
   "codemirror_mode": {
    "name": "ipython",
    "version": 3
   },
   "file_extension": ".py",
   "mimetype": "text/x-python",
   "name": "python",
   "nbconvert_exporter": "python",
   "pygments_lexer": "ipython3",
   "version": "3.9.7"
  }
 },
 "nbformat": 4,
 "nbformat_minor": 5
}
